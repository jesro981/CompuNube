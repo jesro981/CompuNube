{
 "cells": [
  {
   "cell_type": "code",
   "execution_count": null,
   "id": "16ab350b-81b2-4ff4-aef0-b32f28d08b23",
   "metadata": {},
   "outputs": [],
   "source": []
  }
 ],
 "metadata": {
  "kernelspec": {
   "display_name": "",
   "name": ""
  },
  "language_info": {
   "name": ""
  }
 },
 "nbformat": 4,
 "nbformat_minor": 5
}
