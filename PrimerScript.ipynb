{
 "cells": [
  {
   "cell_type": "code",
   "execution_count": 1,
   "id": "16ab350b-81b2-4ff4-aef0-b32f28d08b23",
   "metadata": {},
   "outputs": [
    {
     "name": "stdout",
     "output_type": "stream",
     "text": [
      "Hola mundo\n"
     ]
    }
   ],
   "source": [
    "print(\"Hola mundo\")"
   ]
  },
  {
   "cell_type": "code",
   "execution_count": 1,
   "id": "7ee18e9e-5aec-4d7d-bccf-5d5ac78f30c2",
   "metadata": {},
   "outputs": [
    {
     "name": "stdout",
     "output_type": "stream",
     "text": [
      "Hola desde Jupyter en Linux 5.15.0-144-generic\n"
     ]
    }
   ],
   "source": [
    "import platform\n",
    "print(\"Hola desde Jupyter en\", platform.system(), platform.release())\n"
   ]
  },
  {
   "cell_type": "code",
   "execution_count": null,
   "id": "245c5454-c159-4b7d-b51c-264b32af10af",
   "metadata": {},
   "outputs": [],
   "source": []
  }
 ],
 "metadata": {
  "kernelspec": {
   "display_name": "Python 3 (ipykernel)",
   "language": "python",
   "name": "python3"
  },
  "language_info": {
   "codemirror_mode": {
    "name": "ipython",
    "version": 3
   },
   "file_extension": ".py",
   "mimetype": "text/x-python",
   "name": "python",
   "nbconvert_exporter": "python",
   "pygments_lexer": "ipython3",
   "version": "3.10.12"
  }
 },
 "nbformat": 4,
 "nbformat_minor": 5
}
